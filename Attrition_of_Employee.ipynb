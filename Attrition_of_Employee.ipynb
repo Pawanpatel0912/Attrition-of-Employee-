{
 "cells": [
  {
   "cell_type": "markdown",
   "id": "6decd0d4",
   "metadata": {},
   "source": [
    "# <span style=\"background-color: #EB824F; padding: 10px\"><strong>        Attrition of Employee </strong></span>\n"
   ]
  },
  {
   "cell_type": "markdown",
   "id": "b5bea7e6",
   "metadata": {},
   "source": [
    "# <span style=\"background-color: #FFFFFF; padding: 10px\"><strong>**PROBLEM STATEMENT**</strong></span>\n",
    "\n",
    "\n",
    "1. To predict whether an employee will leave or not based on their experience in years and other relevant features, Here We are use machine learning Algorithms."
   ]
  },
  {
   "cell_type": "markdown",
   "id": "46623dad",
   "metadata": {},
   "source": [
    "# <span style=\"background-color: #FFFFFF; padding: 10px\"><strong>**PROJECT OBJECTIVE**</strong></span>\n",
    "1. Conduct Exploratory Data Analysis (EDA) to gain insights into patterns and relationships within the Employee Dataset.\n",
    "2. Develop predictive models for binary classification to identify Employee Leave or not."
   ]
  },
  {
   "cell_type": "markdown",
   "id": "099cbfc0",
   "metadata": {},
   "source": [
    "# Import Libraries"
   ]
  },
  {
   "cell_type": "code",
   "execution_count": 1,
   "id": "2d1b4c90",
   "metadata": {},
   "outputs": [
    {
     "name": "stderr",
     "output_type": "stream",
     "text": [
      "C:\\Users\\pawan\\anaconda3\\lib\\site-packages\\scipy\\__init__.py:138: UserWarning: A NumPy version >=1.16.5 and <1.23.0 is required for this version of SciPy (detected version 1.24.3)\n",
      "  warnings.warn(f\"A NumPy version >={np_minversion} and <{np_maxversion} is required for this version of \"\n"
     ]
    }
   ],
   "source": [
    "import numpy as np\n",
    "import pandas as pd\n",
    "import matplotlib.pyplot as plt\n",
    "import seaborn as sb\n",
    "import warnings\n",
    "warnings.filterwarnings('ignore')\n",
    "from sklearn.metrics import confusion_matrix,classification_report"
   ]
  },
  {
   "cell_type": "markdown",
   "id": "a4bc4948",
   "metadata": {},
   "source": [
    "# Load Dataset"
   ]
  },
  {
   "cell_type": "code",
   "execution_count": 2,
   "id": "71689e88",
   "metadata": {},
   "outputs": [
    {
     "data": {
      "text/html": [
       "<div>\n",
       "<style scoped>\n",
       "    .dataframe tbody tr th:only-of-type {\n",
       "        vertical-align: middle;\n",
       "    }\n",
       "\n",
       "    .dataframe tbody tr th {\n",
       "        vertical-align: top;\n",
       "    }\n",
       "\n",
       "    .dataframe thead th {\n",
       "        text-align: right;\n",
       "    }\n",
       "</style>\n",
       "<table border=\"1\" class=\"dataframe\">\n",
       "  <thead>\n",
       "    <tr style=\"text-align: right;\">\n",
       "      <th></th>\n",
       "      <th>Education</th>\n",
       "      <th>JoiningYear</th>\n",
       "      <th>City</th>\n",
       "      <th>PaymentTier</th>\n",
       "      <th>Age</th>\n",
       "      <th>Gender</th>\n",
       "      <th>EverBenched</th>\n",
       "      <th>ExperienceInCurrentDomain</th>\n",
       "      <th>LeaveOrNot</th>\n",
       "    </tr>\n",
       "  </thead>\n",
       "  <tbody>\n",
       "    <tr>\n",
       "      <th>0</th>\n",
       "      <td>Bachelors</td>\n",
       "      <td>2017</td>\n",
       "      <td>Bangalore</td>\n",
       "      <td>3</td>\n",
       "      <td>34</td>\n",
       "      <td>Male</td>\n",
       "      <td>No</td>\n",
       "      <td>0</td>\n",
       "      <td>0</td>\n",
       "    </tr>\n",
       "    <tr>\n",
       "      <th>1</th>\n",
       "      <td>Bachelors</td>\n",
       "      <td>2013</td>\n",
       "      <td>Pune</td>\n",
       "      <td>1</td>\n",
       "      <td>28</td>\n",
       "      <td>Female</td>\n",
       "      <td>No</td>\n",
       "      <td>3</td>\n",
       "      <td>1</td>\n",
       "    </tr>\n",
       "    <tr>\n",
       "      <th>2</th>\n",
       "      <td>Bachelors</td>\n",
       "      <td>2014</td>\n",
       "      <td>New Delhi</td>\n",
       "      <td>3</td>\n",
       "      <td>38</td>\n",
       "      <td>Female</td>\n",
       "      <td>No</td>\n",
       "      <td>2</td>\n",
       "      <td>0</td>\n",
       "    </tr>\n",
       "    <tr>\n",
       "      <th>3</th>\n",
       "      <td>Masters</td>\n",
       "      <td>2016</td>\n",
       "      <td>Bangalore</td>\n",
       "      <td>3</td>\n",
       "      <td>27</td>\n",
       "      <td>Male</td>\n",
       "      <td>No</td>\n",
       "      <td>5</td>\n",
       "      <td>1</td>\n",
       "    </tr>\n",
       "    <tr>\n",
       "      <th>4</th>\n",
       "      <td>Masters</td>\n",
       "      <td>2017</td>\n",
       "      <td>Pune</td>\n",
       "      <td>3</td>\n",
       "      <td>24</td>\n",
       "      <td>Male</td>\n",
       "      <td>Yes</td>\n",
       "      <td>2</td>\n",
       "      <td>1</td>\n",
       "    </tr>\n",
       "  </tbody>\n",
       "</table>\n",
       "</div>"
      ],
      "text/plain": [
       "   Education  JoiningYear       City  PaymentTier  Age  Gender EverBenched  \\\n",
       "0  Bachelors         2017  Bangalore            3   34    Male          No   \n",
       "1  Bachelors         2013       Pune            1   28  Female          No   \n",
       "2  Bachelors         2014  New Delhi            3   38  Female          No   \n",
       "3    Masters         2016  Bangalore            3   27    Male          No   \n",
       "4    Masters         2017       Pune            3   24    Male         Yes   \n",
       "\n",
       "   ExperienceInCurrentDomain  LeaveOrNot  \n",
       "0                          0           0  \n",
       "1                          3           1  \n",
       "2                          2           0  \n",
       "3                          5           1  \n",
       "4                          2           1  "
      ]
     },
     "execution_count": 2,
     "metadata": {},
     "output_type": "execute_result"
    }
   ],
   "source": [
    "df=pd.read_csv('Employee.csv')\n",
    "df.head()"
   ]
  },
  {
   "cell_type": "markdown",
   "id": "40dde291",
   "metadata": {},
   "source": [
    "# To check Null Values"
   ]
  },
  {
   "cell_type": "code",
   "execution_count": 3,
   "id": "061f0dc0",
   "metadata": {},
   "outputs": [
    {
     "data": {
      "text/plain": [
       "Education                    0\n",
       "JoiningYear                  0\n",
       "City                         0\n",
       "PaymentTier                  0\n",
       "Age                          0\n",
       "Gender                       0\n",
       "EverBenched                  0\n",
       "ExperienceInCurrentDomain    0\n",
       "LeaveOrNot                   0\n",
       "dtype: int64"
      ]
     },
     "execution_count": 3,
     "metadata": {},
     "output_type": "execute_result"
    }
   ],
   "source": [
    "df.isnull().sum()"
   ]
  },
  {
   "cell_type": "code",
   "execution_count": 4,
   "id": "7094abb7",
   "metadata": {},
   "outputs": [
    {
     "data": {
      "text/plain": [
       "Education                    object\n",
       "JoiningYear                   int64\n",
       "City                         object\n",
       "PaymentTier                   int64\n",
       "Age                           int64\n",
       "Gender                       object\n",
       "EverBenched                  object\n",
       "ExperienceInCurrentDomain     int64\n",
       "LeaveOrNot                    int64\n",
       "dtype: object"
      ]
     },
     "execution_count": 4,
     "metadata": {},
     "output_type": "execute_result"
    }
   ],
   "source": [
    "df.dtypes"
   ]
  },
  {
   "cell_type": "code",
   "execution_count": 5,
   "id": "dc3e946d",
   "metadata": {},
   "outputs": [
    {
     "data": {
      "image/png": "[encoded data removed]",
      "text/plain": [
       "<Figure size 432x288 with 2 Axes>"
      ]
     },
     "metadata": {
      "needs_background": "light"
     },
     "output_type": "display_data"
    }
   ],
   "source": [
    "#visualise null values\n",
    "sb.heatmap(df.isnull())\n",
    "plt.show()"
   ]
  },
  {
   "cell_type": "markdown",
   "id": "fe6daf7e",
   "metadata": {},
   "source": [
    "# Information About Data"
   ]
  },
  {
   "cell_type": "code",
   "execution_count": 6,
   "id": "7ae4cc8a",
   "metadata": {},
   "outputs": [
    {
     "name": "stdout",
     "output_type": "stream",
     "text": [
      "<class 'pandas.core.frame.DataFrame'>\n",
      "RangeIndex: 4653 entries, 0 to 4652\n",
      "Data columns (total 9 columns):\n",
      " #   Column                     Non-Null Count  Dtype \n",
      "---  ------                     --------------  ----- \n",
      " 0   Education                  4653 non-null   object\n",
      " 1   JoiningYear                4653 non-null   int64 \n",
      " 2   City                       4653 non-null   object\n",
      " 3   PaymentTier                4653 non-null   int64 \n",
      " 4   Age                        4653 non-null   int64 \n",
      " 5   Gender                     4653 non-null   object\n",
      " 6   EverBenched                4653 non-null   object\n",
      " 7   ExperienceInCurrentDomain  4653 non-null   int64 \n",
      " 8   LeaveOrNot                 4653 non-null   int64 \n",
      "dtypes: int64(5), object(4)\n",
      "memory usage: 327.3+ KB\n"
     ]
    }
   ],
   "source": [
    "df.info()"
   ]
  },
  {
   "cell_type": "markdown",
   "id": "8392078d",
   "metadata": {},
   "source": [
    "## observation\n",
    "1. here Data set contain 4653 Rows and 8 colunms\n",
    "2. 4 Feature is object type data and 4 feature is int type data"
   ]
  },
  {
   "cell_type": "code",
   "execution_count": 7,
   "id": "2f490ac8",
   "metadata": {},
   "outputs": [
    {
     "data": {
      "image/png": "[encoded data removed]",
      "text/plain": [
       "<Figure size 720x576 with 1 Axes>"
      ]
     },
     "metadata": {
      "needs_background": "light"
     },
     "output_type": "display_data"
    }
   ],
   "source": [
    "# To create a count plot to understanding the most demanding education\n",
    "plt.figure(figsize=(10,8))\n",
    "sb.countplot(data=df,x='Education')\n",
    "plt.title(\"To find the employees eduction in the data\")\n",
    "plt.xlabel(\"Educations\")\n",
    "plt.ylabel(\"Count of values\")\n",
    "plt.show()"
   ]
  },
  {
   "cell_type": "code",
   "execution_count": 8,
   "id": "e3e91d54",
   "metadata": {},
   "outputs": [
    {
     "data": {
      "text/plain": [
       "Education  Gender\n",
       "PHD        Female      69\n",
       "           Male       110\n",
       "Masters    Female     371\n",
       "           Male       502\n",
       "Bachelors  Female    1435\n",
       "           Male      2166\n",
       "Name: count, dtype: int64"
      ]
     },
     "execution_count": 8,
     "metadata": {},
     "output_type": "execute_result"
    }
   ],
   "source": [
    "#check education qualification with gender wise\n",
    "df.groupby(['Education'])['Gender'].value_counts().sort_values(ascending=True)"
   ]
  },
  {
   "cell_type": "code",
   "execution_count": 9,
   "id": "d93180ce",
   "metadata": {},
   "outputs": [
    {
     "data": {
      "image/png": "[encoded data removed]",
      "text/plain": [
       "<Figure size 720x576 with 1 Axes>"
      ]
     },
     "metadata": {
      "needs_background": "light"
     },
     "output_type": "display_data"
    }
   ],
   "source": [
    "#based on employee data employee take leave or not, visualise \n",
    "plt.figure(figsize=(10,8))\n",
    "sb.countplot(data=df,x='LeaveOrNot')\n",
    "plt.title('Employee Leave or Not')\n",
    "plt.show()"
   ]
  },
  {
   "cell_type": "code",
   "execution_count": 10,
   "id": "40a129dc",
   "metadata": {},
   "outputs": [
    {
     "data": {
      "text/html": [
       "<div>\n",
       "<style scoped>\n",
       "    .dataframe tbody tr th:only-of-type {\n",
       "        vertical-align: middle;\n",
       "    }\n",
       "\n",
       "    .dataframe tbody tr th {\n",
       "        vertical-align: top;\n",
       "    }\n",
       "\n",
       "    .dataframe thead th {\n",
       "        text-align: right;\n",
       "    }\n",
       "</style>\n",
       "<table border=\"1\" class=\"dataframe\">\n",
       "  <thead>\n",
       "    <tr style=\"text-align: right;\">\n",
       "      <th></th>\n",
       "      <th>Education</th>\n",
       "      <th>JoiningYear</th>\n",
       "      <th>City</th>\n",
       "      <th>PaymentTier</th>\n",
       "      <th>Age</th>\n",
       "      <th>Gender</th>\n",
       "      <th>EverBenched</th>\n",
       "      <th>ExperienceInCurrentDomain</th>\n",
       "      <th>LeaveOrNot</th>\n",
       "    </tr>\n",
       "  </thead>\n",
       "  <tbody>\n",
       "    <tr>\n",
       "      <th>0</th>\n",
       "      <td>Bachelors</td>\n",
       "      <td>2017</td>\n",
       "      <td>Bangalore</td>\n",
       "      <td>3</td>\n",
       "      <td>34</td>\n",
       "      <td>Male</td>\n",
       "      <td>No</td>\n",
       "      <td>0</td>\n",
       "      <td>0</td>\n",
       "    </tr>\n",
       "    <tr>\n",
       "      <th>1</th>\n",
       "      <td>Bachelors</td>\n",
       "      <td>2013</td>\n",
       "      <td>Pune</td>\n",
       "      <td>1</td>\n",
       "      <td>28</td>\n",
       "      <td>Female</td>\n",
       "      <td>No</td>\n",
       "      <td>3</td>\n",
       "      <td>1</td>\n",
       "    </tr>\n",
       "    <tr>\n",
       "      <th>2</th>\n",
       "      <td>Bachelors</td>\n",
       "      <td>2014</td>\n",
       "      <td>New Delhi</td>\n",
       "      <td>3</td>\n",
       "      <td>38</td>\n",
       "      <td>Female</td>\n",
       "      <td>No</td>\n",
       "      <td>2</td>\n",
       "      <td>0</td>\n",
       "    </tr>\n",
       "    <tr>\n",
       "      <th>3</th>\n",
       "      <td>Masters</td>\n",
       "      <td>2016</td>\n",
       "      <td>Bangalore</td>\n",
       "      <td>3</td>\n",
       "      <td>27</td>\n",
       "      <td>Male</td>\n",
       "      <td>No</td>\n",
       "      <td>5</td>\n",
       "      <td>1</td>\n",
       "    </tr>\n",
       "    <tr>\n",
       "      <th>4</th>\n",
       "      <td>Masters</td>\n",
       "      <td>2017</td>\n",
       "      <td>Pune</td>\n",
       "      <td>3</td>\n",
       "      <td>24</td>\n",
       "      <td>Male</td>\n",
       "      <td>Yes</td>\n",
       "      <td>2</td>\n",
       "      <td>1</td>\n",
       "    </tr>\n",
       "  </tbody>\n",
       "</table>\n",
       "</div>"
      ],
      "text/plain": [
       "   Education  JoiningYear       City  PaymentTier  Age  Gender EverBenched  \\\n",
       "0  Bachelors         2017  Bangalore            3   34    Male          No   \n",
       "1  Bachelors         2013       Pune            1   28  Female          No   \n",
       "2  Bachelors         2014  New Delhi            3   38  Female          No   \n",
       "3    Masters         2016  Bangalore            3   27    Male          No   \n",
       "4    Masters         2017       Pune            3   24    Male         Yes   \n",
       "\n",
       "   ExperienceInCurrentDomain  LeaveOrNot  \n",
       "0                          0           0  \n",
       "1                          3           1  \n",
       "2                          2           0  \n",
       "3                          5           1  \n",
       "4                          2           1  "
      ]
     },
     "execution_count": 10,
     "metadata": {},
     "output_type": "execute_result"
    }
   ],
   "source": [
    "df.head()"
   ]
  },
  {
   "cell_type": "markdown",
   "id": "228f7e64",
   "metadata": {},
   "source": [
    "# convert categorical type data into numericcal type use LabelEncoder\n"
   ]
  },
  {
   "cell_type": "code",
   "execution_count": 11,
   "id": "e08b29d7",
   "metadata": {},
   "outputs": [
    {
     "data": {
      "text/html": [
       "<div>\n",
       "<style scoped>\n",
       "    .dataframe tbody tr th:only-of-type {\n",
       "        vertical-align: middle;\n",
       "    }\n",
       "\n",
       "    .dataframe tbody tr th {\n",
       "        vertical-align: top;\n",
       "    }\n",
       "\n",
       "    .dataframe thead th {\n",
       "        text-align: right;\n",
       "    }\n",
       "</style>\n",
       "<table border=\"1\" class=\"dataframe\">\n",
       "  <thead>\n",
       "    <tr style=\"text-align: right;\">\n",
       "      <th></th>\n",
       "      <th>Education</th>\n",
       "      <th>JoiningYear</th>\n",
       "      <th>City</th>\n",
       "      <th>PaymentTier</th>\n",
       "      <th>Age</th>\n",
       "      <th>Gender</th>\n",
       "      <th>EverBenched</th>\n",
       "      <th>ExperienceInCurrentDomain</th>\n",
       "      <th>LeaveOrNot</th>\n",
       "    </tr>\n",
       "  </thead>\n",
       "  <tbody>\n",
       "    <tr>\n",
       "      <th>0</th>\n",
       "      <td>0</td>\n",
       "      <td>2017</td>\n",
       "      <td>0</td>\n",
       "      <td>3</td>\n",
       "      <td>34</td>\n",
       "      <td>1</td>\n",
       "      <td>0</td>\n",
       "      <td>0</td>\n",
       "      <td>0</td>\n",
       "    </tr>\n",
       "    <tr>\n",
       "      <th>1</th>\n",
       "      <td>0</td>\n",
       "      <td>2013</td>\n",
       "      <td>2</td>\n",
       "      <td>1</td>\n",
       "      <td>28</td>\n",
       "      <td>0</td>\n",
       "      <td>0</td>\n",
       "      <td>3</td>\n",
       "      <td>1</td>\n",
       "    </tr>\n",
       "    <tr>\n",
       "      <th>2</th>\n",
       "      <td>0</td>\n",
       "      <td>2014</td>\n",
       "      <td>1</td>\n",
       "      <td>3</td>\n",
       "      <td>38</td>\n",
       "      <td>0</td>\n",
       "      <td>0</td>\n",
       "      <td>2</td>\n",
       "      <td>0</td>\n",
       "    </tr>\n",
       "    <tr>\n",
       "      <th>3</th>\n",
       "      <td>1</td>\n",
       "      <td>2016</td>\n",
       "      <td>0</td>\n",
       "      <td>3</td>\n",
       "      <td>27</td>\n",
       "      <td>1</td>\n",
       "      <td>0</td>\n",
       "      <td>5</td>\n",
       "      <td>1</td>\n",
       "    </tr>\n",
       "    <tr>\n",
       "      <th>4</th>\n",
       "      <td>1</td>\n",
       "      <td>2017</td>\n",
       "      <td>2</td>\n",
       "      <td>3</td>\n",
       "      <td>24</td>\n",
       "      <td>1</td>\n",
       "      <td>1</td>\n",
       "      <td>2</td>\n",
       "      <td>1</td>\n",
       "    </tr>\n",
       "  </tbody>\n",
       "</table>\n",
       "</div>"
      ],
      "text/plain": [
       "   Education  JoiningYear  City  PaymentTier  Age  Gender  EverBenched  \\\n",
       "0          0         2017     0            3   34       1            0   \n",
       "1          0         2013     2            1   28       0            0   \n",
       "2          0         2014     1            3   38       0            0   \n",
       "3          1         2016     0            3   27       1            0   \n",
       "4          1         2017     2            3   24       1            1   \n",
       "\n",
       "   ExperienceInCurrentDomain  LeaveOrNot  \n",
       "0                          0           0  \n",
       "1                          3           1  \n",
       "2                          2           0  \n",
       "3                          5           1  \n",
       "4                          2           1  "
      ]
     },
     "execution_count": 11,
     "metadata": {},
     "output_type": "execute_result"
    }
   ],
   "source": [
    "#import LabelEncoder\n",
    "from sklearn.preprocessing import LabelEncoder\n",
    "le=LabelEncoder()\n",
    "\n",
    "for i in df.select_dtypes(include='object'):\n",
    "    label=LabelEncoder()\n",
    "    label.fit(df[i])\n",
    "    df[i]=label.transform(df[i])\n",
    "df.head()\n",
    "    \n"
   ]
  },
  {
   "cell_type": "code",
   "execution_count": 12,
   "id": "af5f4470",
   "metadata": {},
   "outputs": [],
   "source": [
    "#select input and output\n",
    "x=df.drop(['LeaveOrNot'],axis=1)\n",
    "y=df['LeaveOrNot']"
   ]
  },
  {
   "cell_type": "markdown",
   "id": "9d1378e9",
   "metadata": {},
   "source": [
    "# Train the model with 75% data"
   ]
  },
  {
   "cell_type": "code",
   "execution_count": 13,
   "id": "02342ac1",
   "metadata": {},
   "outputs": [],
   "source": [
    "from sklearn.model_selection import train_test_split\n",
    "x_train,x_test,y_train,y_test=train_test_split(x,y,test_size=0.25,random_state=1)"
   ]
  },
  {
   "cell_type": "markdown",
   "id": "51cdc28b",
   "metadata": {},
   "source": [
    "# Create a model"
   ]
  },
  {
   "cell_type": "code",
   "execution_count": 14,
   "id": "20e70333",
   "metadata": {},
   "outputs": [],
   "source": [
    "def create_model(model):\n",
    "    #train the data \n",
    "    model.fit(x_train,y_train)\n",
    "    #test the data\n",
    "    y_pred=model.predict(x_test)\n",
    "    \n",
    "    #generate reprot\n",
    "    print(\"Classification report :\",classification_report(y_test,y_pred))\n",
    "    print(\"confusion matrx:\",confusion_matrix(y_test,y_pred))\n",
    "    plt.show()\n",
    "    return model\n",
    "\n",
    "    "
   ]
  },
  {
   "cell_type": "markdown",
   "id": "a5125607",
   "metadata": {},
   "source": [
    "# Logistic Regressions "
   ]
  },
  {
   "cell_type": "code",
   "execution_count": 15,
   "id": "a9594eab",
   "metadata": {},
   "outputs": [],
   "source": [
    "from sklearn.linear_model import LogisticRegression\n",
    "lr=LogisticRegression()"
   ]
  },
  {
   "cell_type": "code",
   "execution_count": 16,
   "id": "9fcbe11e",
   "metadata": {},
   "outputs": [
    {
     "name": "stdout",
     "output_type": "stream",
     "text": [
      "Classification report :               precision    recall  f1-score   support\n",
      "\n",
      "           0       0.71      0.92      0.80       737\n",
      "           1       0.72      0.35      0.47       427\n",
      "\n",
      "    accuracy                           0.71      1164\n",
      "   macro avg       0.71      0.64      0.64      1164\n",
      "weighted avg       0.71      0.71      0.68      1164\n",
      "\n",
      "confusion matrx: [[678  59]\n",
      " [277 150]]\n"
     ]
    }
   ],
   "source": [
    "#call function\n",
    "lr=create_model(lr)"
   ]
  },
  {
   "cell_type": "markdown",
   "id": "8442e694",
   "metadata": {},
   "source": [
    "# Decision Tree Clasifier"
   ]
  },
  {
   "cell_type": "code",
   "execution_count": 17,
   "id": "38f25a8e",
   "metadata": {},
   "outputs": [],
   "source": [
    "from sklearn.tree import DecisionTreeClassifier\n",
    "#create a object\n",
    "dtc=DecisionTreeClassifier()"
   ]
  },
  {
   "cell_type": "code",
   "execution_count": 18,
   "id": "d4028da1",
   "metadata": {},
   "outputs": [
    {
     "name": "stdout",
     "output_type": "stream",
     "text": [
      "Classification report :               precision    recall  f1-score   support\n",
      "\n",
      "           0       0.84      0.88      0.86       737\n",
      "           1       0.77      0.70      0.74       427\n",
      "\n",
      "    accuracy                           0.82      1164\n",
      "   macro avg       0.80      0.79      0.80      1164\n",
      "weighted avg       0.81      0.82      0.81      1164\n",
      "\n",
      "confusion matrx: [[649  88]\n",
      " [127 300]]\n"
     ]
    }
   ],
   "source": [
    "#call function\n",
    "dtc=create_model(dtc)"
   ]
  },
  {
   "cell_type": "code",
   "execution_count": 19,
   "id": "84ac5346",
   "metadata": {},
   "outputs": [
    {
     "data": {
      "text/html": [
       "<div>\n",
       "<style scoped>\n",
       "    .dataframe tbody tr th:only-of-type {\n",
       "        vertical-align: middle;\n",
       "    }\n",
       "\n",
       "    .dataframe tbody tr th {\n",
       "        vertical-align: top;\n",
       "    }\n",
       "\n",
       "    .dataframe thead th {\n",
       "        text-align: right;\n",
       "    }\n",
       "</style>\n",
       "<table border=\"1\" class=\"dataframe\">\n",
       "  <thead>\n",
       "    <tr style=\"text-align: right;\">\n",
       "      <th></th>\n",
       "      <th>Input</th>\n",
       "      <th>IG</th>\n",
       "    </tr>\n",
       "  </thead>\n",
       "  <tbody>\n",
       "    <tr>\n",
       "      <th>0</th>\n",
       "      <td>JoiningYear</td>\n",
       "      <td>0.326475</td>\n",
       "    </tr>\n",
       "    <tr>\n",
       "      <th>1</th>\n",
       "      <td>PaymentTier</td>\n",
       "      <td>0.150047</td>\n",
       "    </tr>\n",
       "    <tr>\n",
       "      <th>2</th>\n",
       "      <td>Age</td>\n",
       "      <td>0.144125</td>\n",
       "    </tr>\n",
       "    <tr>\n",
       "      <th>3</th>\n",
       "      <td>City</td>\n",
       "      <td>0.120816</td>\n",
       "    </tr>\n",
       "    <tr>\n",
       "      <th>4</th>\n",
       "      <td>ExperienceInCurrentDomain</td>\n",
       "      <td>0.083299</td>\n",
       "    </tr>\n",
       "    <tr>\n",
       "      <th>5</th>\n",
       "      <td>Education</td>\n",
       "      <td>0.081440</td>\n",
       "    </tr>\n",
       "    <tr>\n",
       "      <th>6</th>\n",
       "      <td>Gender</td>\n",
       "      <td>0.058596</td>\n",
       "    </tr>\n",
       "    <tr>\n",
       "      <th>7</th>\n",
       "      <td>EverBenched</td>\n",
       "      <td>0.035202</td>\n",
       "    </tr>\n",
       "  </tbody>\n",
       "</table>\n",
       "</div>"
      ],
      "text/plain": [
       "                       Input        IG\n",
       "0                JoiningYear  0.326475\n",
       "1                PaymentTier  0.150047\n",
       "2                        Age  0.144125\n",
       "3                       City  0.120816\n",
       "4  ExperienceInCurrentDomain  0.083299\n",
       "5                  Education  0.081440\n",
       "6                     Gender  0.058596\n",
       "7                EverBenched  0.035202"
      ]
     },
     "execution_count": 19,
     "metadata": {},
     "output_type": "execute_result"
    }
   ],
   "source": [
    "dict={'Input':x.columns,'IG':dtc.feature_importances_}\n",
    "df1=pd.DataFrame(dict)\n",
    "df1.sort_values('IG',ascending=False,ignore_index=True)"
   ]
  },
  {
   "cell_type": "markdown",
   "id": "932fbab9",
   "metadata": {},
   "source": [
    "# Random Forest Classifier"
   ]
  },
  {
   "cell_type": "code",
   "execution_count": 20,
   "id": "3ebe848c",
   "metadata": {},
   "outputs": [
    {
     "name": "stdout",
     "output_type": "stream",
     "text": [
      "Classification report :               precision    recall  f1-score   support\n",
      "\n",
      "           0       0.84      0.92      0.88       737\n",
      "           1       0.84      0.69      0.76       427\n",
      "\n",
      "    accuracy                           0.84      1164\n",
      "   macro avg       0.84      0.81      0.82      1164\n",
      "weighted avg       0.84      0.84      0.83      1164\n",
      "\n",
      "confusion matrx: [[681  56]\n",
      " [134 293]]\n"
     ]
    }
   ],
   "source": [
    "#to import randomforesttree\n",
    "from sklearn.ensemble import RandomForestClassifier\n",
    "#using gini index\n",
    "#create object\n",
    "rfc=RandomForestClassifier(n_estimators=10,max_features=2,random_state=1)  #n_estimators means no of iterations\n",
    "#call function\n",
    "rfc=create_model(rfc)"
   ]
  },
  {
   "cell_type": "code",
   "execution_count": 21,
   "id": "f55c8578",
   "metadata": {},
   "outputs": [
    {
     "name": "stdout",
     "output_type": "stream",
     "text": [
      "Classification report :               precision    recall  f1-score   support\n",
      "\n",
      "           0       0.83      0.92      0.88       737\n",
      "           1       0.84      0.68      0.75       427\n",
      "\n",
      "    accuracy                           0.84      1164\n",
      "   macro avg       0.84      0.80      0.82      1164\n",
      "weighted avg       0.84      0.84      0.83      1164\n",
      "\n",
      "confusion matrx: [[681  56]\n",
      " [135 292]]\n"
     ]
    }
   ],
   "source": [
    "#using entropy\n",
    "rfc=RandomForestClassifier(n_estimators=10,max_features=3,random_state=1,criterion='entropy') \n",
    "#n_estimators means no of iterations\n",
    "#call function\n",
    "rfc=create_model(rfc)"
   ]
  },
  {
   "cell_type": "markdown",
   "id": "3a4d551b",
   "metadata": {},
   "source": [
    "# ADA Boost Classifier"
   ]
  },
  {
   "cell_type": "code",
   "execution_count": 22,
   "id": "0356dabe",
   "metadata": {},
   "outputs": [
    {
     "name": "stdout",
     "output_type": "stream",
     "text": [
      "Classification report :               precision    recall  f1-score   support\n",
      "\n",
      "           0       0.69      1.00      0.82       737\n",
      "           1       0.99      0.23      0.38       427\n",
      "\n",
      "    accuracy                           0.72      1164\n",
      "   macro avg       0.84      0.62      0.60      1164\n",
      "weighted avg       0.80      0.72      0.66      1164\n",
      "\n",
      "confusion matrx: [[736   1]\n",
      " [327 100]]\n"
     ]
    }
   ],
   "source": [
    "#now performing model with adaboost and to import AdaBoostClassifier\n",
    "from sklearn.ensemble import AdaBoostClassifier\n",
    "#create object of AdaBoostClassifier class\n",
    "ada=AdaBoostClassifier(n_estimators=2,random_state=1)   #n_estimators means no of iterations\n",
    "#call function\n",
    "ada=create_model(ada)"
   ]
  },
  {
   "cell_type": "markdown",
   "id": "3842c7fc",
   "metadata": {},
   "source": [
    "# Greadient Boost Classifier"
   ]
  },
  {
   "cell_type": "code",
   "execution_count": 23,
   "id": "b15527dc",
   "metadata": {},
   "outputs": [
    {
     "name": "stdout",
     "output_type": "stream",
     "text": [
      "Classification report :               precision    recall  f1-score   support\n",
      "\n",
      "           0       0.78      0.97      0.87       737\n",
      "           1       0.91      0.53      0.67       427\n",
      "\n",
      "    accuracy                           0.81      1164\n",
      "   macro avg       0.85      0.75      0.77      1164\n",
      "weighted avg       0.83      0.81      0.80      1164\n",
      "\n",
      "confusion matrx: [[715  22]\n",
      " [199 228]]\n"
     ]
    }
   ],
   "source": [
    "#Performing model with Gradient Boosting and to apply GradientBoostingClassifier on this dataset \n",
    "from sklearn.ensemble import GradientBoostingClassifier\n",
    "#create object of GradientBoostingClassifier class\n",
    "gbc=GradientBoostingClassifier(random_state=1,n_estimators=31) #n_estimators means no of iterations\n",
    "#call function\n",
    "gbc=create_model(gbc)"
   ]
  },
  {
   "cell_type": "markdown",
   "id": "81b85a70",
   "metadata": {},
   "source": [
    "# Performing model with Extreme Gradient Boosting "
   ]
  },
  {
   "cell_type": "code",
   "execution_count": 24,
   "id": "262605c5",
   "metadata": {},
   "outputs": [
    {
     "name": "stdout",
     "output_type": "stream",
     "text": [
      "Classification report :               precision    recall  f1-score   support\n",
      "\n",
      "           0       0.84      0.95      0.89       737\n",
      "           1       0.90      0.68      0.78       427\n",
      "\n",
      "    accuracy                           0.85      1164\n",
      "   macro avg       0.87      0.82      0.83      1164\n",
      "weighted avg       0.86      0.85      0.85      1164\n",
      "\n",
      "confusion matrx: [[703  34]\n",
      " [135 292]]\n"
     ]
    }
   ],
   "source": [
    "#we have to first install xgboost if not installed in system \n",
    "#!pip install xgboost\n",
    "#to apply XGBClassifier \n",
    "from xgboost import XGBClassifier\n",
    "#create a object of XGBClassifier\n",
    "xgc=XGBClassifier(n_estimators=10,reg_alpha=1,random_state=1)   #n_estimators means no of iterations\n",
    "#call function\n",
    "xgc=create_model(xgc)"
   ]
  },
  {
   "cell_type": "markdown",
   "id": "8ad23abf",
   "metadata": {},
   "source": [
    "# Performing model with support vector machine"
   ]
  },
  {
   "cell_type": "code",
   "execution_count": 25,
   "id": "2ca6ebfe",
   "metadata": {},
   "outputs": [
    {
     "name": "stdout",
     "output_type": "stream",
     "text": [
      "Classification report :               precision    recall  f1-score   support\n",
      "\n",
      "           0       0.00      0.00      0.00       737\n",
      "           1       0.37      1.00      0.54       427\n",
      "\n",
      "    accuracy                           0.37      1164\n",
      "   macro avg       0.18      0.50      0.27      1164\n",
      "weighted avg       0.13      0.37      0.20      1164\n",
      "\n",
      "confusion matrx: [[  0 737]\n",
      " [  0 427]]\n"
     ]
    }
   ],
   "source": [
    "#to import LinearSVC \n",
    "from sklearn.svm import LinearSVC\n",
    "#here LinearSVC = Linear suport vector classifier \n",
    "#create an object of LinearSVC\n",
    "svc=LinearSVC(random_state=1)\n",
    "#call function\n",
    "svc=create_model(svc)"
   ]
  },
  {
   "cell_type": "code",
   "execution_count": 26,
   "id": "68d5ed10",
   "metadata": {},
   "outputs": [
    {
     "name": "stdout",
     "output_type": "stream",
     "text": [
      "Classification report :               precision    recall  f1-score   support\n",
      "\n",
      "           0       0.00      0.00      0.00       737\n",
      "           1       0.37      1.00      0.54       427\n",
      "\n",
      "    accuracy                           0.37      1164\n",
      "   macro avg       0.18      0.50      0.27      1164\n",
      "weighted avg       0.13      0.37      0.20      1164\n",
      "\n",
      "confusion matrx: [[  0 737]\n",
      " [  0 427]]\n"
     ]
    }
   ],
   "source": [
    "#create object of LinearSVC and adding some external error at training time \n",
    "svc1=LinearSVC(random_state=1,C=0.9)  #here c is external error added \n",
    "#call function\n",
    "svc1=create_model(svc)"
   ]
  },
  {
   "cell_type": "code",
   "execution_count": 27,
   "id": "a02518f2",
   "metadata": {},
   "outputs": [
    {
     "name": "stdout",
     "output_type": "stream",
     "text": [
      "Classification report :               precision    recall  f1-score   support\n",
      "\n",
      "           0       0.63      1.00      0.78       737\n",
      "           1       0.00      0.00      0.00       427\n",
      "\n",
      "    accuracy                           0.63      1164\n",
      "   macro avg       0.32      0.50      0.39      1164\n",
      "weighted avg       0.40      0.63      0.49      1164\n",
      "\n",
      "confusion matrx: [[737   0]\n",
      " [427   0]]\n"
     ]
    }
   ],
   "source": [
    "#using polynomial kernel function\n",
    "from sklearn.svm import SVC\n",
    "#create object and passing poly in kernel parameter\n",
    "svc2=SVC(random_state=1,kernel='poly')\n",
    "#call function\n",
    "svc2=create_model(svc2)"
   ]
  },
  {
   "cell_type": "code",
   "execution_count": 28,
   "id": "9d72be4e",
   "metadata": {},
   "outputs": [
    {
     "name": "stdout",
     "output_type": "stream",
     "text": [
      "Classification report :               precision    recall  f1-score   support\n",
      "\n",
      "           0       0.63      1.00      0.78       737\n",
      "           1       0.00      0.00      0.00       427\n",
      "\n",
      "    accuracy                           0.63      1164\n",
      "   macro avg       0.32      0.50      0.39      1164\n",
      "weighted avg       0.40      0.63      0.49      1164\n",
      "\n",
      "confusion matrx: [[737   0]\n",
      " [427   0]]\n"
     ]
    }
   ],
   "source": [
    "#lets check once with Radial basis\n",
    "svc3=SVC(random_state=1,kernel='rbf')\n",
    "#call function\n",
    "svc3=create_model(svc3)"
   ]
  },
  {
   "cell_type": "markdown",
   "id": "4380e4d0",
   "metadata": {},
   "source": [
    "#Here 85% is the highest accuracy score of Extreme Gradient booting algorithm"
   ]
  },
  {
   "cell_type": "markdown",
   "id": "26873b92",
   "metadata": {},
   "source": [
    "# conclusion:  85% is the highest accuracy score of Extreme Gradient booting algorithm"
   ]
  },
  {
   "cell_type": "code",
   "execution_count": null,
   "id": "d0f85dc6",
   "metadata": {},
   "outputs": [],
   "source": []
  }
 ],
 "metadata": {
  "kernelspec": {
   "display_name": "Python 3",
   "language": "python",
   "name": "python3"
  },
  "language_info": {
   "codemirror_mode": {
    "name": "ipython",
    "version": 3
   },
   "file_extension": ".py",
   "mimetype": "text/x-python",
   "name": "python",
   "nbconvert_exporter": "python",
   "pygments_lexer": "ipython3",
   "version": "3.8.8"
  }
 },
 "nbformat": 4,
 "nbformat_minor": 5
}
